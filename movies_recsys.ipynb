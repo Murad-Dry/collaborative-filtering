{
 "cells": [
  {
   "cell_type": "code",
   "execution_count": 1,
   "metadata": {},
   "outputs": [],
   "source": [
    "import random\n",
    "import pandas as pd\n",
    "import numpy as np\n",
    "from sklearn.decomposition import NMF\n",
    "from scipy.sparse import csr_matrix\n",
    "from sklearn.metrics import mean_squared_error, mean_absolute_error\n",
    "from math import sqrt\n",
    "from sklearn.model_selection import train_test_split"
   ]
  },
  {
   "cell_type": "code",
   "execution_count": 2,
   "metadata": {},
   "outputs": [
    {
     "data": {
      "text/html": [
       "<div>\n",
       "<style scoped>\n",
       "    .dataframe tbody tr th:only-of-type {\n",
       "        vertical-align: middle;\n",
       "    }\n",
       "\n",
       "    .dataframe tbody tr th {\n",
       "        vertical-align: top;\n",
       "    }\n",
       "\n",
       "    .dataframe thead th {\n",
       "        text-align: right;\n",
       "    }\n",
       "</style>\n",
       "<table border=\"1\" class=\"dataframe\">\n",
       "  <thead>\n",
       "    <tr style=\"text-align: right;\">\n",
       "      <th></th>\n",
       "      <th>userId</th>\n",
       "      <th>movieId</th>\n",
       "      <th>rating</th>\n",
       "    </tr>\n",
       "  </thead>\n",
       "  <tbody>\n",
       "    <tr>\n",
       "      <th>0</th>\n",
       "      <td>1</td>\n",
       "      <td>16</td>\n",
       "      <td>4.0</td>\n",
       "    </tr>\n",
       "    <tr>\n",
       "      <th>1</th>\n",
       "      <td>1</td>\n",
       "      <td>24</td>\n",
       "      <td>1.5</td>\n",
       "    </tr>\n",
       "    <tr>\n",
       "      <th>2</th>\n",
       "      <td>1</td>\n",
       "      <td>32</td>\n",
       "      <td>4.0</td>\n",
       "    </tr>\n",
       "    <tr>\n",
       "      <th>3</th>\n",
       "      <td>1</td>\n",
       "      <td>47</td>\n",
       "      <td>4.0</td>\n",
       "    </tr>\n",
       "    <tr>\n",
       "      <th>4</th>\n",
       "      <td>1</td>\n",
       "      <td>50</td>\n",
       "      <td>4.0</td>\n",
       "    </tr>\n",
       "  </tbody>\n",
       "</table>\n",
       "</div>"
      ],
      "text/plain": [
       "   userId  movieId  rating\n",
       "0       1       16     4.0\n",
       "1       1       24     1.5\n",
       "2       1       32     4.0\n",
       "3       1       47     4.0\n",
       "4       1       50     4.0"
      ]
     },
     "execution_count": 2,
     "metadata": {},
     "output_type": "execute_result"
    }
   ],
   "source": [
    "# Load ratins dataset\n",
    "ratings = pd.read_csv(\"dataset/ratings.csv\").drop(\"timestamp\", axis=1)\n",
    "ratings.head()"
   ]
  },
  {
   "cell_type": "code",
   "execution_count": 3,
   "metadata": {},
   "outputs": [
    {
     "data": {
      "text/html": [
       "<div>\n",
       "<style scoped>\n",
       "    .dataframe tbody tr th:only-of-type {\n",
       "        vertical-align: middle;\n",
       "    }\n",
       "\n",
       "    .dataframe tbody tr th {\n",
       "        vertical-align: top;\n",
       "    }\n",
       "\n",
       "    .dataframe thead th {\n",
       "        text-align: right;\n",
       "    }\n",
       "</style>\n",
       "<table border=\"1\" class=\"dataframe\">\n",
       "  <thead>\n",
       "    <tr style=\"text-align: right;\">\n",
       "      <th></th>\n",
       "      <th>movieId</th>\n",
       "      <th>title</th>\n",
       "    </tr>\n",
       "  </thead>\n",
       "  <tbody>\n",
       "    <tr>\n",
       "      <th>0</th>\n",
       "      <td>1</td>\n",
       "      <td>Toy Story (1995)</td>\n",
       "    </tr>\n",
       "    <tr>\n",
       "      <th>1</th>\n",
       "      <td>2</td>\n",
       "      <td>Jumanji (1995)</td>\n",
       "    </tr>\n",
       "    <tr>\n",
       "      <th>2</th>\n",
       "      <td>3</td>\n",
       "      <td>Grumpier Old Men (1995)</td>\n",
       "    </tr>\n",
       "    <tr>\n",
       "      <th>3</th>\n",
       "      <td>4</td>\n",
       "      <td>Waiting to Exhale (1995)</td>\n",
       "    </tr>\n",
       "    <tr>\n",
       "      <th>4</th>\n",
       "      <td>5</td>\n",
       "      <td>Father of the Bride Part II (1995)</td>\n",
       "    </tr>\n",
       "  </tbody>\n",
       "</table>\n",
       "</div>"
      ],
      "text/plain": [
       "   movieId                               title\n",
       "0        1                    Toy Story (1995)\n",
       "1        2                      Jumanji (1995)\n",
       "2        3             Grumpier Old Men (1995)\n",
       "3        4            Waiting to Exhale (1995)\n",
       "4        5  Father of the Bride Part II (1995)"
      ]
     },
     "execution_count": 3,
     "metadata": {},
     "output_type": "execute_result"
    }
   ],
   "source": [
    "# Load movies dataset\n",
    "movies = pd.read_csv(\"dataset/movies.csv\", encoding=\"latin-1\")[[\"movieId\", \"title\"]]\n",
    "movies.head()"
   ]
  },
  {
   "cell_type": "code",
   "execution_count": 4,
   "metadata": {},
   "outputs": [
    {
     "data": {
      "text/plain": [
       "(105339, 4)"
      ]
     },
     "execution_count": 4,
     "metadata": {},
     "output_type": "execute_result"
    }
   ],
   "source": [
    "# Merge ratings with movie titles\n",
    "mrgd_ratings = ratings.merge(movies, on=\"movieId\")\n",
    "mrgd_ratings.shape"
   ]
  },
  {
   "cell_type": "code",
   "execution_count": 5,
   "metadata": {},
   "outputs": [
    {
     "data": {
      "text/plain": [
       "(105339, 4)"
      ]
     },
     "execution_count": 5,
     "metadata": {},
     "output_type": "execute_result"
    }
   ],
   "source": [
    "mrgd_ratings.drop_duplicates(subset=['userId', 'movieId'], keep=\"first\", inplace=True)\n",
    "mrgd_ratings.shape"
   ]
  },
  {
   "cell_type": "code",
   "execution_count": 34,
   "metadata": {},
   "outputs": [
    {
     "data": {
      "text/plain": [
       "(668, 10325)"
      ]
     },
     "execution_count": 34,
     "metadata": {},
     "output_type": "execute_result"
    }
   ],
   "source": [
    "# Convert ratings into a matrix\n",
    "user_movie_matrix = mrgd_ratings.pivot(index=\"userId\", columns=\"movieId\", values=\"rating\").fillna(0)\n",
    "user_movie_matrix.shape"
   ]
  },
  {
   "cell_type": "code",
   "execution_count": 14,
   "metadata": {},
   "outputs": [],
   "source": [
    "def get_rated_indices(R:np.array) -> list:\n",
    "    # Suppose R is the full user-item rating matrix (with 0 for missing values)\n",
    "    # Create a mask for known ratings\n",
    "    known_ratings_mask = R > 0\n",
    "\n",
    "    # For simplicity, let's create a train-test split on the indices of known ratings\n",
    "    user_idx, item_idx = np.where(known_ratings_mask)\n",
    "    indices = list(zip(user_idx, item_idx))\n",
    "    return indices\n",
    "\n",
    "def get_train_test_datasets(ratings: pd.DataFrame):\n",
    "    R = ratings.to_numpy()\n",
    "    indices = get_rated_indices(R)\n",
    "    train_indices, test_indices = train_test_split(indices, test_size=0.2, random_state=42)\n",
    "\n",
    "    # Build train and test matrices\n",
    "    R_train = np.zeros(R.shape)\n",
    "    R_test = np.zeros(R.shape)\n",
    "\n",
    "    for i, j in train_indices:\n",
    "        R_train[i, j] = R[i, j]\n",
    "\n",
    "    for i, j in test_indices:\n",
    "        R_test[i, j] = R[i, j]\n",
    "    return R_train, R_test, train_indices, test_indices"
   ]
  },
  {
   "cell_type": "code",
   "execution_count": null,
   "metadata": {},
   "outputs": [],
   "source": [
    "\n",
    "def train(R_train: np.array, k: int, alpha: float, lambda_reg: float, epochs: int) -> np.array:\n",
    "    num_users, num_items = R_train.shape  # Rows (Users) & Columns (Movies)\n",
    "    # Initialize U and V randomly\n",
    "    U = np.random.rand(num_users, k)\n",
    "    V = np.random.rand(num_items, k)\n",
    "\n",
    "    # Get nonzero ratings (user-item pairs with ratings)\n",
    "    rated_indices = get_rated_indices(R_train)\n",
    "\n",
    "    # SGD Optimization\n",
    "    for epoch in range(epochs):\n",
    "        for u, i in rated_indices:\n",
    "            r_ui = R_train[u,i]\n",
    "            # Compute predicted rating\n",
    "            pred = np.dot(U[u, :], V[i, :].T)\n",
    "            error = r_ui - pred\n",
    "\n",
    "            # Update U and V using SGD\n",
    "            U[u, :] += alpha * (error * V[i, :] - lambda_reg * U[u, :])\n",
    "            V[i, :] += alpha * (error * U[u, :] - lambda_reg * V[i, :])\n",
    "\n",
    "    # Reconstructed rating matrix\n",
    "    predicted_R = np.dot(U, V.T)\n",
    "    print(\"Predicted Ratings:\\n\", predicted_R)\n",
    "    return predicted_R\n"
   ]
  },
  {
   "cell_type": "code",
   "execution_count": 37,
   "metadata": {},
   "outputs": [
    {
     "name": "stdout",
     "output_type": "stream",
     "text": [
      "Predicted Ratings:\n",
      " [[3.90979169 3.05038923 3.14633893 ... 3.37489547 4.50817003 4.52722276]\n",
      " [4.0328891  3.25436472 3.29930002 ... 3.10881287 4.39023067 4.22310749]\n",
      " [3.90919969 3.04087699 3.14134299 ... 3.40560493 4.52927794 4.56398885]\n",
      " ...\n",
      " [3.66872293 2.7212047  2.88187873 ... 3.65356623 4.56994306 4.83199308]\n",
      " [4.08780754 3.20129907 3.2955983  ... 3.48708129 4.68448223 4.68359702]\n",
      " [3.24931967 2.61992977 2.65720009 ... 2.51213016 3.54235707 3.41138875]]\n"
     ]
    }
   ],
   "source": [
    "R_train, R_test, train_indices, test_indices = get_train_test_datasets(user_movie_matrix)\n",
    "predicted_R = train(R_train, 2, 0.03, 0.1, 500)\n"
   ]
  },
  {
   "cell_type": "code",
   "execution_count": 33,
   "metadata": {},
   "outputs": [
    {
     "data": {
      "text/plain": [
       "array([[3.88067462, 3.11466442, 3.13375659, ..., 3.31934394, 4.60035423,\n",
       "        4.43590391],\n",
       "       [4.04817475, 3.48887752, 3.53084946, ..., 3.60287385, 4.6991131 ,\n",
       "        4.79687815],\n",
       "       [3.89009086, 3.15578851, 3.17801461, ..., 3.34703307, 4.59754497,\n",
       "        4.47039714],\n",
       "       [4.04020012, 3.3519924 , 3.38192253, ..., 3.51972504, 4.74397257,\n",
       "        4.69551682]], shape=(4, 10325))"
      ]
     },
     "execution_count": 33,
     "metadata": {},
     "output_type": "execute_result"
    }
   ],
   "source": [
    "predicted_R[:4,:]"
   ]
  },
  {
   "cell_type": "code",
   "execution_count": 38,
   "metadata": {},
   "outputs": [
    {
     "name": "stdout",
     "output_type": "stream",
     "text": [
      "RMSE: 0.9981\n",
      "MAE: 0.7551\n"
     ]
    }
   ],
   "source": [
    "# Evaluate only on the test indices\n",
    "true_values = []\n",
    "pred_values = []\n",
    "for i, j in test_indices:\n",
    "    true_values.append(R_test[i, j])\n",
    "    pred_values.append(predicted_R[i, j])\n",
    "\n",
    "rmse = sqrt(mean_squared_error(true_values, pred_values))\n",
    "mae = mean_absolute_error(true_values, pred_values)\n",
    "\n",
    "print(f\"RMSE: {rmse:.4f}\")\n",
    "print(f\"MAE: {mae:.4f}\")"
   ]
  }
 ],
 "metadata": {
  "kernelspec": {
   "display_name": "movie-recommender-ds-speJwbZO",
   "language": "python",
   "name": "python3"
  },
  "language_info": {
   "codemirror_mode": {
    "name": "ipython",
    "version": 3
   },
   "file_extension": ".py",
   "mimetype": "text/x-python",
   "name": "python",
   "nbconvert_exporter": "python",
   "pygments_lexer": "ipython3",
   "version": "3.12.9"
  }
 },
 "nbformat": 4,
 "nbformat_minor": 2
}
